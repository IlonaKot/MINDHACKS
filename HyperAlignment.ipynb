{
 "cells": [
  {
   "cell_type": "code",
   "execution_count": 1,
   "metadata": {},
   "outputs": [],
   "source": [
    "import numpy as np\n",
    "\n",
    "from mvpa2.datasets.base import Dataset\n",
    "from mvpa2.algorithms.hyperalignment import Hyperalignment"
   ]
  },
  {
   "cell_type": "code",
   "execution_count": 2,
   "metadata": {},
   "outputs": [],
   "source": [
    "# Create fake data\n",
    "d1 = np.array([[1, 2], [3, 4]])\n",
    "d2 = np.array([[5, 6], [1, 2]])\n",
    "\n",
    "ds1 = Dataset(d1)\n",
    "ds2 = Dataset(d2)\n",
    "\n",
    "datasets = [ds1, ds2]"
   ]
  },
  {
   "cell_type": "code",
   "execution_count": 3,
   "metadata": {},
   "outputs": [],
   "source": [
    "# Initialize a hyperalingment object\n",
    "hyper_aligner = Hyperalignment()"
   ]
  },
  {
   "cell_type": "code",
   "execution_count": 4,
   "metadata": {},
   "outputs": [],
   "source": [
    "# Train our hyperalingment model\n",
    "hyper_aligner.train(datasets)"
   ]
  },
  {
   "cell_type": "code",
   "execution_count": 5,
   "metadata": {},
   "outputs": [],
   "source": [
    "# Collect our mappings from fitting hyperalignment\n",
    "mappers = hyper_aligner(datasets)"
   ]
  },
  {
   "cell_type": "code",
   "execution_count": 6,
   "metadata": {
    "scrolled": true
   },
   "outputs": [],
   "source": [
    "# Apply the hyper-alignment projection to transform the data\n",
    "new_datasets = []\n",
    "for dataset, mapper in zip(datasets, mappers):\n",
    "    new_datasets.append(mapper.forward(dataset))\n",
    "    \n",
    "# Note: this above is equivalent to the following one liner\n",
    "new_datasets = [mapper.forward(dataset) for dataset, mapper in zip(datasets, mappers)]"
   ]
  },
  {
   "cell_type": "code",
   "execution_count": 7,
   "metadata": {},
   "outputs": [],
   "source": [
    "# From here: try classification between subjects, in aligned space"
   ]
  },
  {
   "cell_type": "code",
   "execution_count": null,
   "metadata": {},
   "outputs": [],
   "source": []
  }
 ],
 "metadata": {
  "kernelspec": {
   "display_name": "Python 2",
   "language": "python",
   "name": "python2"
  },
  "language_info": {
   "codemirror_mode": {
    "name": "ipython",
    "version": 2
   },
   "file_extension": ".py",
   "mimetype": "text/x-python",
   "name": "python",
   "nbconvert_exporter": "python",
   "pygments_lexer": "ipython2",
   "version": "2.7.15"
  }
 },
 "nbformat": 4,
 "nbformat_minor": 2
}
